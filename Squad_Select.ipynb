{
  "nbformat": 4,
  "nbformat_minor": 0,
  "metadata": {
    "colab": {
      "provenance": []
    },
    "kernelspec": {
      "name": "python3",
      "display_name": "Python 3"
    },
    "language_info": {
      "name": "python"
    }
  },
  "cells": [
    {
      "cell_type": "markdown",
      "source": [
        "Data available at : https://github.com/LianHaiMiao/Attentive-Group-Recommendation "
      ],
      "metadata": {
        "id": "1v63JXd1CdBO"
      }
    },
    {
      "cell_type": "markdown",
      "source": [
        "# **Data Exploration**"
      ],
      "metadata": {
        "id": "nO-9ps-FqUhr"
      }
    },
    {
      "cell_type": "code",
      "source": [
        "import scipy.sparse as sp\n",
        "import numpy as np"
      ],
      "metadata": {
        "id": "geFhRZc5s3cw"
      },
      "execution_count": 1,
      "outputs": []
    },
    {
      "cell_type": "code",
      "source": [
        "class Config(object):\n",
        "  def __init__(self):\n",
        "    self.data_path='/content/'"
      ],
      "metadata": {
        "id": "Jvb-o7MZsRlS"
      },
      "execution_count": 2,
      "outputs": []
    },
    {
      "cell_type": "code",
      "execution_count": 3,
      "metadata": {
        "id": "r0H9hbAep_gj"
      },
      "outputs": [],
      "source": [
        "\n",
        "class Dataset(object):\n",
        "  def __init__ (self, data_path)  :\n",
        "        \n",
        "        print(\"loading User Train Matrix...\")\n",
        "        self.user_trainMatrix=self.load_rating_file_as_matrix(data_path+\"userRatingTrain.txt\")\n",
        "        print(\"loading Group Train Matrix...\")\n",
        "        self.group_trainMatrix=self.load_rating_file_as_matrix(data_path+\"groupRatingTrain.txt\")\n",
        "        print(\"loading User Test Matrix...\")\n",
        "        self.user_testMatrix=self.load_rating_file_as_matrix(data_path+\"userRatingTest.txt\")\n",
        "        print(\"loading Group Test Matrix...\")\n",
        "        self.group_testMatrix=self.load_rating_file_as_matrix(data_path+\"groupRatingTest.txt\")\n",
        "        \n",
        "        # process negative data\n",
        "        #print(\"loading User Negative into User test Matrix:\")\n",
        "        #self.user_testMatrix=self.load_negative_data(self.user_testMatrix, data_path+\"userRatingNegative.txt\")\n",
        "        \n",
        "        #taken num items as per train data since they are different in test matrices from train matrice item counts\n",
        "        self.num_users, self.num_items = self.user_trainMatrix.shape\n",
        "        self.num_groups=self.group_trainMatrix.shape[0]\n",
        "\n",
        "        #implicit matrices\n",
        "        self.implicit_user_trainMatrix=np.zeros((self.user_trainMatrix.shape))\n",
        "        self.implicit_user_testMatrix=np.zeros((self.user_testMatrix.shape))\n",
        "        self.implicit_group_trainMatrix=np.zeros((self.group_trainMatrix.shape))\n",
        "        self.implicit_group_testMatrix=np.zeros((self.group_testMatrix.shape))\n",
        "\n",
        "        print(\"loading Implicit User Train Matrix...\")\n",
        "        self.implicit_user_trainMatrix[self.user_trainMatrix!=0]=1\n",
        "        print(\"loading Implicit User Test Matrix...\")\n",
        "        self.implicit_user_testMatrix[self.user_testMatrix!=0]=1\n",
        "        print(\"loading Implicit Group Train Matrix...\")\n",
        "        self.implicit_group_trainMatrix[self.group_trainMatrix!=0]=1\n",
        "        print(\"loading Implicit Group Test Matrix...\")\n",
        "        self.implicit_group_testMatrix[self.group_testMatrix!=0]=1\n",
        "\n",
        "        #group-user mapping\n",
        "        print(\"loading Group-User Mapping Data...\")\n",
        "        self.group_user_Dict=self.extract_group_user_data(data_path+\"groupMember.txt\")\n",
        "\n",
        "  def extract_group_user_data(self, filename):\n",
        "        group_user_dict={}\n",
        "        with open(filename, \"r\") as f:\n",
        "            line=f.readline()\n",
        "            while line!=None and line!=\"\":\n",
        "                arr=line.split(\" \")\n",
        "                arr[1] = arr[1].replace(\"\\n\", \"\")\n",
        "                members=arr[1].split(\",\")\n",
        "                if arr[0] not in group_user_dict:\n",
        "                    group_user_dict[int(arr[0])]= [int(x) for x in members]\n",
        "                line=f.readline()\n",
        "        return group_user_dict\n",
        "\n",
        "  def load_rating_file_as_matrix(self, filename):\n",
        "        # Get number of users and items\n",
        "        num_users, num_items = 0, 0\n",
        "        with open(filename, \"r\") as f:\n",
        "            line=f.readline()\n",
        "            while line!=None and line!=\"\":\n",
        "                arr=line.split(\" \")\n",
        "                u,i=int(arr[0]), int(arr[1])\n",
        "                num_users=max(num_users,u)\n",
        "                num_items=max(num_items,i)\n",
        "                line=f.readline()\n",
        "      \n",
        "        mat=np.zeros((num_users+1, num_items+1))\n",
        "        with open(filename, \"r\") as f:\n",
        "            line=f.readline()\n",
        "            while line!=None and line!=\"\":\n",
        "                arr=line.split(\" \")\n",
        "                mat[int(arr[0])-1][int(arr[1])-1]=int(arr[2])\n",
        "                line=f.readline()\n",
        "\n",
        "        return mat\n",
        "\n",
        "  #TBD\n",
        "  def load_negative_data(self, matrixname, filename):\n",
        "        with open(filename, \"r\") as f:\n",
        "            line=f.readline()\n",
        "            while line!=None and line!=\"\":\n",
        "                arr=line.split(\" \")\n",
        "                print(arr)\n",
        "                line=f.readline()\n",
        "\n"
      ]
    },
    {
      "cell_type": "code",
      "source": [
        "if __name__=='__main__':\n",
        "  config=Config()\n",
        "  dataset=Dataset(config.data_path)\n",
        "  num_users, num_items, num_groups = dataset.num_users, dataset.num_items, dataset.num_groups\n",
        "\n"
      ],
      "metadata": {
        "colab": {
          "base_uri": "https://localhost:8080/"
        },
        "id": "nzk5-DDxstV6",
        "outputId": "17eaa5f9-a736-4309-f418-bba0915b2908"
      },
      "execution_count": 4,
      "outputs": [
        {
          "output_type": "stream",
          "name": "stdout",
          "text": [
            "loading User Train Matrix...\n",
            "loading Group Train Matrix...\n",
            "loading User Test Matrix...\n",
            "loading Group Test Matrix...\n",
            "loading Implicit User Train Matrix...\n",
            "loading Implicit User Test Matrix...\n",
            "loading Implicit Group Train Matrix...\n",
            "loading Implicit Group Test Matrix...\n",
            "loading Group-User Mapping Data...\n"
          ]
        }
      ]
    },
    {
      "cell_type": "markdown",
      "source": [
        "**Dataset Details:**"
      ],
      "metadata": {
        "id": "uy7Bldhn7G4c"
      }
    },
    {
      "cell_type": "code",
      "source": [
        "print(\"num users, num items, num groups=({}, {}, {})\".format(num_users, num_items, num_groups))\n",
        "print()\n",
        "print(\"user_traindata shape={}\".format(dataset.user_trainMatrix.shape))\n",
        "print(\"user_testdata shape={}\".format(dataset.user_testMatrix.shape))\n",
        "print(\"group_traindata shape={}\".format(dataset.group_trainMatrix.shape))\n",
        "print(\"group_testdata shape={}\".format(dataset.group_testMatrix.shape))\n",
        "print()\n",
        "print(\"Implicit user_traindata shape={}\".format( dataset.implicit_user_trainMatrix.shape))\n",
        "print(\"implicit user_testdata shape={}\".format(  dataset.implicit_user_testMatrix.shape))\n",
        "print(\"implicit group_traindata shape={}\".format(dataset.implicit_group_trainMatrix.shape))\n",
        "print(\"implicit group_testdata shape={}\".format( dataset.implicit_group_testMatrix.shape))\n",
        "print()\n",
        "print('Group User Data:')\n",
        "print(dataset.group_user_Dict)"
      ],
      "metadata": {
        "colab": {
          "base_uri": "https://localhost:8080/"
        },
        "id": "3Cp1MRnbt31Y",
        "outputId": "c119d638-a05d-4cf8-83e4-5b43e124a650"
      },
      "execution_count": 5,
      "outputs": [
        {
          "output_type": "stream",
          "name": "stdout",
          "text": [
            "num users, num items, num groups=(602, 7710, 290)\n",
            "\n",
            "user_traindata shape=(602, 7710)\n",
            "user_testdata shape=(602, 7679)\n",
            "group_traindata shape=(290, 7710)\n",
            "group_testdata shape=(290, 7656)\n",
            "\n",
            "Implicit user_traindata shape=(602, 7710)\n",
            "implicit user_testdata shape=(602, 7679)\n",
            "implicit group_traindata shape=(290, 7710)\n",
            "implicit group_testdata shape=(290, 7656)\n",
            "\n",
            "Group User Data:\n",
            "{216: [346, 414], 217: [433, 526], 214: [559, 570], 215: [226, 294], 212: [415, 470], 213: [43, 267, 308], 210: [443, 520], 211: [53, 392], 165: [451, 496], 264: [105, 171], 265: [556, 253, 366], 218: [334, 386], 219: [199, 302], 133: [6, 126], 132: [141, 519], 131: [480, 500], 130: [179, 348], 137: [106, 524], 136: [304, 587], 135: [42, 510], 134: [113, 120], 139: [440, 545], 138: [365, 490], 166: [258, 397], 24: [27, 404], 25: [58, 252], 26: [157, 565, 431], 27: [347, 462], 20: [8, 435], 21: [152, 484], 22: [271, 502], 23: [155, 381], 160: [391, 405], 28: [597, 521], 29: [23, 523], 161: [210, 486], 289: [61, 475], 0: [21, 198], 4: [83, 136], 281: [135, 151], 8: [93, 99], 283: [183, 352], 163: [575, 530], 285: [139, 268], 284: [70, 413], 287: [19, 167, 282, 283], 286: [2, 31], 119: [311, 343], 258: [122, 315], 120: [395, 551], 121: [9, 46], 122: [116, 329], 123: [33, 400], 124: [222, 428], 125: [172, 204], 126: [0, 485], 127: [129, 376], 128: [340, 396], 129: [213, 291], 269: [110, 364], 268: [234, 529], 167: [188, 208], 118: [508, 515], 59: [153, 235], 58: [319, 419], 55: [287, 382], 54: [303, 374], 57: [248, 305], 56: [114, 349], 51: [239, 344], 50: [375, 507], 53: [378, 420], 52: [127, 261], 259: [11, 416], 276: [181, 505], 164: [68, 534], 201: [60, 353, 368], 199: [76, 549], 179: [112, 552], 200: [148, 367], 195: [47, 401], 194: [249, 472], 197: [160, 567, 424, 491], 178: [77, 498], 191: [85, 447], 190: [566, 278], 193: [236, 425], 192: [88, 460], 115: [323, 458], 114: [557, 482], 88: [12, 214], 89: [173, 438], 111: [80, 193], 110: [298, 383], 113: [421, 481], 112: [15, 202], 82: [180, 328], 83: [102, 409], 80: [51, 262], 81: [36, 336], 86: [57, 270], 87: [158, 423], 84: [300, 449], 85: [238, 467], 251: [108, 471], 198: [560, 562], 256: [418, 493], 206: [483, 522], 226: [159, 377], 257: [339, 459], 3: [86, 189], 177: [45, 192], 254: [292, 544], 7: [216, 599], 247: [81, 406], 273: [73, 430], 255: [555, 264], 225: [104, 140], 245: [133, 290], 244: [49, 539], 108: [72, 233], 109: [34, 169], 241: [547, 553], 240: [14, 511], 243: [332, 437], 242: [465, 533], 102: [186, 469], 103: [50, 537], 100: [257, 578], 101: [247, 359], 106: [65, 109], 107: [190, 422], 104: [588, 506], 105: [432, 590], 39: [144, 488], 38: [22, 306], 33: [111, 429], 32: [7, 243], 31: [97, 98, 166], 30: [220, 309], 37: [245, 456], 36: [231, 307], 35: [66, 250], 34: [170, 412], 246: [285, 504], 282: [145, 543], 252: [317, 322], 205: [579, 466], 223: [569, 581], 176: [572, 513], 60: [360, 441], 61: [128, 299], 62: [32, 436], 63: [227, 501], 64: [358, 442], 65: [312, 342], 66: [82, 95], 67: [399, 525], 68: [276, 546], 69: [3, 205, 297], 175: [30, 379], 174: [79, 265], 173: [574, 351], 172: [568, 284], 171: [219, 246], 170: [476, 516], 203: [69, 474], 222: [212, 363], 288: [156, 274], 181: [149, 454], 253: [78, 228], 248: [331, 371], 182: [174, 197], 183: [580, 583], 180: [337, 494], 2: [24, 187], 162: [71, 563], 187: [178, 333], 184: [35, 558], 6: [154, 177], 220: [357, 582], 186: [26, 503], 188: [206, 591], 189: [90, 313, 325], 202: [200, 301], 196: [25, 561, 411], 221: [223, 384], 185: [237, 446], 271: [29, 91], 99: [131, 335], 98: [254, 457], 168: [495, 509], 169: [55, 402], 229: [52, 194], 228: [370, 448], 91: [92, 259], 90: [28, 241], 93: [380, 389], 92: [314, 463], 95: [20, 101], 94: [240, 408], 97: [464, 473], 96: [211, 350], 11: [143, 182], 10: [115, 518], 13: [39, 354, 453], 12: [295, 499], 15: [217, 280], 14: [100, 373], 17: [576, 417], 16: [330, 531], 19: [41, 142], 18: [125, 541], 117: [256, 492], 116: [75, 293], 270: [146, 517], 274: [54, 341, 589], 204: [209, 594], 224: [564, 191], 275: [601, 586], 151: [130, 277], 150: [74, 478], 153: [165, 479], 152: [279, 445], 155: [40, 162], 154: [107, 361], 157: [118, 403], 156: [318, 372], 159: [119, 123], 158: [310, 452, 540], 277: [224, 514], 234: [320, 487], 238: [134, 455], 239: [362, 585], 227: [577, 345], 279: [96, 461], 207: [201, 571], 235: [48, 215], 236: [439, 584], 237: [1, 260], 230: [573, 321], 231: [4, 132, 444, 593], 232: [497, 527], 233: [13, 369], 280: [161, 164, 185], 48: [117, 218], 49: [16, 17], 46: [67, 326], 47: [168, 288], 44: [269, 398], 45: [221, 356], 42: [281, 286], 43: [554, 230], 40: [385, 410], 41: [316, 450], 1: [427, 548], 5: [5, 489], 9: [273, 394], 272: [44, 64, 87, 324], 146: [38, 84], 147: [592, 542], 144: [595, 251], 145: [176, 598, 528], 142: [94, 338], 143: [18, 147], 140: [175, 272], 141: [138, 150], 209: [242, 407], 208: [266, 387], 148: [63, 89], 149: [103, 550], 77: [512, 532], 76: [196, 296], 75: [225, 255], 74: [62, 289], 73: [203, 538], 72: [184, 434], 71: [56, 275], 70: [37, 327], 278: [121, 263, 390], 79: [195, 393], 78: [163, 229], 263: [244, 536], 249: [137, 426], 262: [207, 468], 261: [232, 355], 250: [124, 388], 260: [600, 596], 267: [59, 535], 266: [10, 477]}\n"
          ]
        }
      ]
    },
    {
      "cell_type": "markdown",
      "source": [
        "**NOTE: Need to check :**\n",
        "\n",
        "\n",
        "\n",
        "1.   Why is test data's item counts different from train data's\n",
        "2.   Plan how to incorporate and make use of negative data wrt to each item and each user/group\n",
        "\n",
        "\n"
      ],
      "metadata": {
        "id": "KBl1VJdZDIPl"
      }
    },
    {
      "cell_type": "markdown",
      "source": [
        "# **Module Function Scripts**"
      ],
      "metadata": {
        "id": "1MUCmLUkCv7t"
      }
    },
    {
      "cell_type": "markdown",
      "source": [
        "**A. Gartrell, M., Xing, X., Lv, Q., Beach, A., Han, R., Mishra, S., & Seada, K. (2010, November). Enhancing group recommendation by incorporating social relationship interactions. In Proceedings of the 16th ACM international conference on Supporting group work (pp. 97-106).**"
      ],
      "metadata": {
        "id": "wTz-Y_X6QwIv"
      }
    },
    {
      "cell_type": "markdown",
      "source": [
        "***1. Social Relationship***\n",
        "\n",
        "***Point to ne noted***: Since we dont have personal relationship data, we have taken the similarity based on what kinds of items are preffered to be viwed by two users based on any factor (eg poster of movies, directors, movie genre etc) Whethert they like the item or not comes after that, but the common items denote preference based on some factor which led the users to at least view the same items so that they could rate the item"
      ],
      "metadata": {
        "id": "uIcPDG3JQXmi"
      }
    },
    {
      "cell_type": "code",
      "source": [
        "similarity_in_group=np.zeros(num_groups)\n",
        "\n",
        "for group_id in dataset.group_user_Dict:\n",
        "  group_members= dataset.group_user_Dict[group_id]\n",
        "  sum_of_weight_similarities=0\n",
        "  \n",
        "  \n",
        "  for i in range(len(group_members)):\n",
        "    for j in range(i+1,len(group_members)):\n",
        "      user1=group_members[i]\n",
        "      user2=group_members[j]\n",
        "      if user1 != user2:\n",
        "        w_ij=0\n",
        "        user1_items=np.nonzero(dataset.user_trainMatrix[user1])[0]\n",
        "        user2_items=np.nonzero(dataset.user_trainMatrix[user2])[0]\n",
        "        common_items = set(user1_items).intersection(user2_items)\n",
        "        num_common_items = len(common_items)\n",
        "        total_items = set(user1_items).union(user2_items)\n",
        "        num_total_items = len(total_items)\n",
        "\n",
        "        w_ij=num_common_items/num_total_items\n",
        "        sum_of_weight_similarities+=w_ij\n",
        "  similarity_in_group[group_id]=(2*sum_of_weight_similarities)/(len(group_members)*(len(group_members)-1))\n",
        "\n",
        "#print(similarity_in_group)   "
      ],
      "metadata": {
        "id": "xSXj6tSkPu9l"
      },
      "execution_count": 6,
      "outputs": []
    },
    {
      "cell_type": "code",
      "source": [
        "social_descriptor_groupwise=np.zeros(num_groups)\n",
        "sorted_values = sorted(similarity_in_group)\n",
        "\n",
        "# Compute the statistical thresholds for each category (since we dont have very strong similarities in any group)\n",
        "q1 = sorted_values[int(len(sorted_values) * 0.33)]\n",
        "q2 = sorted_values[int(len(sorted_values) * 0.67)]\n",
        "\n",
        "\n",
        "#print(q1,\",\",q2)\n",
        "\n",
        "for i in range(num_groups):\n",
        "        if similarity_in_group[i] <= q1:\n",
        "            social_descriptor_groupwise[i]=0\n",
        "        elif similarity_in_group[i] <= q2:\n",
        "            social_descriptor_groupwise[i]=1\n",
        "        else:\n",
        "            social_descriptor_groupwise[i]=2\n",
        "    \n",
        "#print(social_descriptor_groupwise)\n",
        "\n",
        "\n"
      ],
      "metadata": {
        "id": "EQXJT5QGpINE"
      },
      "execution_count": 7,
      "outputs": []
    },
    {
      "cell_type": "markdown",
      "source": [
        "***2. Expertise descriptor***"
      ],
      "metadata": {
        "id": "QBt8QboyQanG"
      }
    },
    {
      "cell_type": "code",
      "source": [
        "#calculate absolute user expertise\n",
        "user_expertise=np.zeros(num_users)\n",
        "x=0\n",
        "for user_data in dataset.user_trainMatrix:\n",
        "    #print(user_data)\n",
        "    user_i_item_count=len(np.nonzero(user_data)[0])\n",
        "    #print(user_i_item_count)\n",
        "    user_expertise[x]=user_i_item_count/num_items\n",
        "    x+=1\n",
        "\n",
        "#print(user_expertise)\n",
        "absolute_user_expertise_levels=np.zeros(num_users)\n",
        "sorted_expertise_values = sorted(user_expertise)\n",
        "\n",
        "# Compute the statistical thresholds for each category (since we dont have very strong similarities in any group)\n",
        "q1 = sorted_expertise_values[int(len(sorted_expertise_values) * 0.2)]\n",
        "q2 = sorted_expertise_values[int(len(sorted_expertise_values) * 0.4)]\n",
        "q3 = sorted_expertise_values[int(len(sorted_expertise_values) * 0.6)]\n",
        "q4 = sorted_expertise_values[int(len(sorted_expertise_values) * 0.8)]\n",
        "\n",
        "#print(q1,\",\",q2,\",\",q3,\",\",q4)\n",
        "\n",
        "for i in range(num_users):\n",
        "        if user_expertise[i] <= q1:\n",
        "            absolute_user_expertise_levels[i]=1\n",
        "        elif user_expertise[i] <= q2:\n",
        "            absolute_user_expertise_levels[i]=2\n",
        "        elif user_expertise[i] <= q3:\n",
        "            absolute_user_expertise_levels[i]=3\n",
        "        elif user_expertise[i] <= q4:\n",
        "            absolute_user_expertise_levels[i]=4\n",
        "        else:\n",
        "            absolute_user_expertise_levels[i]=5\n",
        "    \n",
        "#print(absolute_user_expertise_levels)\n"
      ],
      "metadata": {
        "id": "0_adRkknPUSx"
      },
      "execution_count": 8,
      "outputs": []
    },
    {
      "cell_type": "code",
      "source": [
        "#uncomment this line for 2d sparse matrix\n",
        "expertise_in_group_members_mat=np.zeros((num_groups, num_users))\n",
        "#uncomment this line for dictionary of list(of dicts)\n",
        "#expertise_in_group_members_dict={}\n",
        "\n",
        "for group_id in dataset.group_user_Dict:\n",
        "  group_members= dataset.group_user_Dict[group_id]\n",
        "  \n",
        "  sum_of_expertise_in_group=0 \n",
        "  for user in group_members:\n",
        "      sum_of_expertise_in_group+=absolute_user_expertise_levels[user]\n",
        "  list_of_member_expertise_groupwise=[] \n",
        "  for user in group_members:\n",
        "      user_relative_expertise_pair={}\n",
        "      E_j=absolute_user_expertise_levels[user]/sum_of_expertise_in_group\n",
        "      user_relative_expertise_pair[user]=E_j\n",
        "\n",
        "      #uncomment this line for 2d sparse matrix\n",
        "      expertise_in_group_members_mat[group_id][user]=E_j\n",
        "      #uncomment this two lines for dictionary of list(of dicts)\n",
        "      #list_of_member_expertise_groupwise.append(user_relative_expertise_pair)\n",
        "  #expertise_in_group_members_dict[group_id]=list_of_member_expertise_groupwise\n",
        "\n",
        "#print(expertise_in_group_members_mat[1])\n"
      ],
      "metadata": {
        "id": "ri9uefIGTP46"
      },
      "execution_count": 9,
      "outputs": []
    },
    {
      "cell_type": "markdown",
      "source": [
        "**WITHOUT EXPERTISE DESCRIPTOR**\n"
      ],
      "metadata": {
        "id": "RoKo0PbCGw5Q"
      }
    },
    {
      "cell_type": "code",
      "source": [
        "expertise_in_group_members_mat=np.ones((num_groups, num_users))"
      ],
      "metadata": {
        "id": "K_Vb-_9SHMYO"
      },
      "execution_count": 10,
      "outputs": []
    },
    {
      "cell_type": "markdown",
      "source": [
        "***3. Dissimilarity descriptors***"
      ],
      "metadata": {
        "id": "ba_qjLEvQdAS"
      }
    },
    {
      "cell_type": "markdown",
      "source": [
        "**For Explicit Rating- taking rating of items into consideration**\n",
        "\n",
        "---\n",
        "\n"
      ],
      "metadata": {
        "id": "H5FA152lXWjv"
      }
    },
    {
      "cell_type": "markdown",
      "source": [
        "**For Implicit Rating**\n",
        "\n",
        "---\n",
        "\n"
      ],
      "metadata": {
        "id": "pJX_5E7fXsN2"
      }
    },
    {
      "cell_type": "markdown",
      "source": [
        "a. Dis_1: APD(Average Pairwise Dissimilarity)"
      ],
      "metadata": {
        "id": "FjrCCz49Wjfd"
      }
    },
    {
      "cell_type": "code",
      "source": [
        "#explicit APD\n",
        "\n",
        "APD_mat=np.zeros((num_groups, num_items))\n",
        "\n",
        "for group_id in dataset.group_user_Dict:\n",
        "  group_members= dataset.group_user_Dict[group_id]\n",
        "  num_members=len(group_members)\n",
        "  for item in range(num_items):\n",
        "      sum_rating_deviation=0\n",
        "      sum_rating_deviation = sum(abs(dataset.user_trainMatrix[i][item]-dataset.user_trainMatrix[j][item]) for i in range(num_members) for j in range(i+1, num_members))\n",
        "\n",
        "      \n",
        "      APD_mat[group_id][item]=(2*sum_rating_deviation)/(num_members*(num_members-1))\n",
        "\n",
        "#print(APD_mat)\n",
        "\n",
        "\n"
      ],
      "metadata": {
        "id": "rBFh_xxtXKVN"
      },
      "execution_count": 11,
      "outputs": []
    },
    {
      "cell_type": "code",
      "source": [
        "#implicit APD\n",
        "\n",
        "APD_mat_implicit=np.zeros((num_groups, num_items))\n",
        "\n",
        "for group_id in dataset.group_user_Dict:\n",
        "  group_members= dataset.group_user_Dict[group_id]\n",
        "  num_members=len(group_members)\n",
        "  for item in range(num_items):\n",
        "      sum_rating_deviation=0\n",
        "      sum_rating_deviation = sum(abs(dataset.implicit_user_trainMatrix[i][item]-dataset.implicit_user_trainMatrix[j][item]) for i in range(num_members) for j in range(i+1, num_members))\n",
        "\n",
        "      \n",
        "      APD_mat_implicit[group_id][item]=(2*sum_rating_deviation)/(num_members*(num_members-1))\n",
        "\n",
        "#print(APD_mat_implicit)"
      ],
      "metadata": {
        "id": "ct_3v4Ag0aSq"
      },
      "execution_count": 12,
      "outputs": []
    },
    {
      "cell_type": "markdown",
      "source": [
        "b. Dis_2: VD(Variance Dissimilarity)"
      ],
      "metadata": {
        "id": "ISI8MRHwWv_i"
      }
    },
    {
      "cell_type": "code",
      "source": [
        "#explicit VD\n",
        "\n",
        "VD_mat=np.zeros((num_groups, num_items))\n",
        "\n",
        "for group_id in dataset.group_user_Dict:\n",
        "  group_members= dataset.group_user_Dict[group_id]\n",
        "  num_members=len(group_members)\n",
        "  \n",
        "\n",
        "  for i in range(num_items):\n",
        "      avg_for_item_groupwise = sum(dataset.user_trainMatrix[group_members[m]][i] for m in range(num_members)) / (num_members)\n",
        "      sum_rating_deviation_from_avg=0\n",
        "      for j in range(num_members):\n",
        "            sum_rating_deviation_from_avg+= (dataset.user_trainMatrix[group_members[j]][i]-avg_for_item_groupwise)**2\n",
        "      VD_mat[group_id][i]=sum_rating_deviation_from_avg/num_members\n",
        "\n",
        "#print(VD_mat)"
      ],
      "metadata": {
        "id": "4nOWPxgcuEZL"
      },
      "execution_count": 13,
      "outputs": []
    },
    {
      "cell_type": "code",
      "source": [
        "#implicit VD\n",
        "\n",
        "VD_mat_implicit=np.zeros((num_groups, num_items))\n",
        "\n",
        "for group_id in dataset.group_user_Dict:\n",
        "  group_members= dataset.group_user_Dict[group_id]\n",
        "  num_members=len(group_members)\n",
        "  \n",
        "\n",
        "  for i in range(num_items):\n",
        "      avg_for_item_groupwise = sum(dataset.implicit_user_trainMatrix[group_members[m]][i] for m in range(num_members)) / (num_members)\n",
        "      sum_rating_deviation_from_avg=0\n",
        "      for j in range(num_members):\n",
        "            sum_rating_deviation_from_avg+= (dataset.implicit_user_trainMatrix[group_members[j]][i]-avg_for_item_groupwise)**2\n",
        "      VD_mat_implicit[group_id][i]=sum_rating_deviation_from_avg/num_members\n",
        "\n",
        "#print(VD_mat_implicit)"
      ],
      "metadata": {
        "id": "3B3myQ_0044Y"
      },
      "execution_count": 14,
      "outputs": []
    },
    {
      "cell_type": "markdown",
      "source": [
        "***4. Heuristic group concensus function***"
      ],
      "metadata": {
        "id": "kex61McsQgEt"
      }
    },
    {
      "cell_type": "markdown",
      "source": [
        "**Explicit rating**"
      ],
      "metadata": {
        "id": "ppmmybMq1YUP"
      }
    },
    {
      "cell_type": "code",
      "source": [
        "#using Dis_1= APD\n",
        "w_1=0.8\n",
        "w_2=0.2\n",
        "\n",
        "overall_group_item_output_mat_APD=np.zeros((num_groups, num_items))\n",
        "for group_id in dataset.group_user_Dict:\n",
        "  group_members= dataset.group_user_Dict[group_id]\n",
        "  num_members=len(group_members)\n",
        "\n",
        "  #Ei_Rix=np.zeros((num_members,num_items))\n",
        "  #x=0\n",
        "  #for member in group_members:\n",
        "  #    for item in range(num_items):\n",
        "  #        Ei_Rix[x][item]=expertise_in_group_members_mat[group_id][member]*dataset.user_trainMatrix[member][item]\n",
        "  #    x+=1\n",
        "#\n",
        "  Ei_Rix = np.array([[expertise_in_group_members_mat[group_id][member] * dataset.user_trainMatrix[member][item] for item in range(num_items)] for member in group_members])\n",
        "\n",
        "\n",
        "  for item in range(num_items): \n",
        "      if social_descriptor_groupwise[group_id]==0:\n",
        "          overall_group_item_output_mat_APD[group_id][item]= w_1*min(Ei_Rix[:, item].tolist())+w_2*APD_mat[group_id][item] #min_misery\n",
        "      elif social_descriptor_groupwise[group_id]==1:\n",
        "          overall_group_item_output_mat_APD[group_id][item]= w_1*(sum(Ei_Rix[:, item].tolist()) / len(Ei_Rix[:, item].tolist()))+w_2*APD_mat[group_id][item] #avg_satisfaction\n",
        "      elif social_descriptor_groupwise[group_id]==2:\n",
        "          overall_group_item_output_mat_APD[group_id][item]= w_1*max(Ei_Rix[:, item].tolist())+w_2*APD_mat[group_id][item] #max_satisfaction\n",
        "\n",
        "\n",
        "#print(overall_group_item_output_mat_APD)"
      ],
      "metadata": {
        "id": "d050ze391XK3"
      },
      "execution_count": 15,
      "outputs": []
    },
    {
      "cell_type": "code",
      "source": [
        "#using Dis_2= VD\n",
        "w_1=0.8\n",
        "w_2=0.2\n",
        "\n",
        "overall_group_item_output_mat_VD=np.zeros((num_groups, num_items))\n",
        "for group_id in dataset.group_user_Dict:\n",
        "  group_members= dataset.group_user_Dict[group_id]\n",
        "  num_members=len(group_members)\n",
        "\n",
        "  #Ei_Rix=np.zeros((num_members,num_items))\n",
        "  #x=0\n",
        "  #for member in group_members:\n",
        "  #    for item in range(num_items):\n",
        "  #        Ei_Rix[x][item]=expertise_in_group_members_mat[group_id][member]*dataset.user_trainMatrix[member][item]\n",
        "  #    x+=1\n",
        "#\n",
        "  Ei_Rix = np.array([[expertise_in_group_members_mat[group_id][member] * dataset.user_trainMatrix[member][item] for item in range(num_items)] for member in group_members])\n",
        "\n",
        "\n",
        "  for item in range(num_items): \n",
        "      if social_descriptor_groupwise[group_id]==0:\n",
        "          overall_group_item_output_mat_VD[group_id][item]= w_1*min(Ei_Rix[:, item].tolist())+w_2*VD_mat[group_id][item] #min_misery\n",
        "      elif social_descriptor_groupwise[group_id]==1:\n",
        "          overall_group_item_output_mat_VD[group_id][item]= w_1*(sum(Ei_Rix[:, item].tolist()) / len(Ei_Rix[:, item].tolist()))+w_2*VD_mat[group_id][item] #avg_satisfaction\n",
        "      elif social_descriptor_groupwise[group_id]==2:\n",
        "          overall_group_item_output_mat_VD[group_id][item]= w_1*max(Ei_Rix[:, item].tolist())+w_2*VD_mat[group_id][item] #max_satisfaction\n",
        "\n",
        "\n",
        "#print(overall_group_item_output_mat_VD)"
      ],
      "metadata": {
        "id": "tyg9NlJJ-qti"
      },
      "execution_count": 16,
      "outputs": []
    },
    {
      "cell_type": "markdown",
      "source": [
        "**Implicit rating**"
      ],
      "metadata": {
        "id": "NbJ1EiLD1hx0"
      }
    },
    {
      "cell_type": "code",
      "source": [
        "#using Dis_1= APD implicit\n",
        "w_1=0.8\n",
        "w_2=0.2\n",
        "\n",
        "overall_group_item_output_mat_APD_implicit=np.zeros((num_groups, num_items))\n",
        "for group_id in dataset.group_user_Dict:\n",
        "  group_members= dataset.group_user_Dict[group_id]\n",
        "  num_members=len(group_members)\n",
        "\n",
        "  #Ei_Rix=np.zeros((num_members,num_items))\n",
        "  #x=0\n",
        "  #for member in group_members:\n",
        "  #    for item in range(num_items):\n",
        "  #        Ei_Rix[x][item]=expertise_in_group_members_mat[group_id][member]*dataset.user_trainMatrix[member][item]\n",
        "  #    x+=1\n",
        "#\n",
        "  Ei_Rix = np.array([[expertise_in_group_members_mat[group_id][member] * dataset.implicit_user_trainMatrix[member][item] for item in range(num_items)] for member in group_members])\n",
        "\n",
        "\n",
        "  for item in range(num_items): \n",
        "      if social_descriptor_groupwise[group_id]==0:\n",
        "          overall_group_item_output_mat_APD_implicit[group_id][item]= w_1*min(Ei_Rix[:, item].tolist())+w_2*APD_mat_implicit[group_id][item] #min_misery\n",
        "      elif social_descriptor_groupwise[group_id]==1:\n",
        "          overall_group_item_output_mat_APD_implicit[group_id][item]= w_1*(sum(Ei_Rix[:, item].tolist()) / len(Ei_Rix[:, item].tolist()))+w_2*APD_mat_implicit[group_id][item] #avg_satisfaction\n",
        "      elif social_descriptor_groupwise[group_id]==2:\n",
        "          overall_group_item_output_mat_APD_implicit[group_id][item]= w_1*max(Ei_Rix[:, item].tolist())+w_2*APD_mat_implicit[group_id][item] #max_satisfaction\n",
        "\n",
        "\n",
        "#print(overall_group_item_output_mat_APD_implicit)"
      ],
      "metadata": {
        "id": "Of2VgmJJ1hRj"
      },
      "execution_count": 17,
      "outputs": []
    },
    {
      "cell_type": "code",
      "source": [
        "#using Dis_2= VD implicit\n",
        "w_1=0.8\n",
        "w_2=0.2\n",
        "\n",
        "overall_group_item_output_mat_VD_implicit=np.zeros((num_groups, num_items))\n",
        "for group_id in dataset.group_user_Dict:\n",
        "  group_members= dataset.group_user_Dict[group_id]\n",
        "  num_members=len(group_members)\n",
        "\n",
        "  #Ei_Rix=np.zeros((num_members,num_items))\n",
        "  #x=0\n",
        "  #for member in group_members:\n",
        "  #    for item in range(num_items):\n",
        "  #        Ei_Rix[x][item]=expertise_in_group_members_mat[group_id][member]*dataset.user_trainMatrix[member][item]\n",
        "  #    x+=1\n",
        "#\n",
        "  Ei_Rix = np.array([[expertise_in_group_members_mat[group_id][member] * dataset.implicit_user_trainMatrix[member][item] for item in range(num_items)] for member in group_members])\n",
        "\n",
        "\n",
        "  for item in range(num_items): \n",
        "      if social_descriptor_groupwise[group_id]==0:\n",
        "          overall_group_item_output_mat_VD_implicit[group_id][item]= w_1*min(Ei_Rix[:, item].tolist())+w_2*VD_mat_implicit[group_id][item] #min_misery\n",
        "      elif social_descriptor_groupwise[group_id]==1:\n",
        "          overall_group_item_output_mat_VD_implicit[group_id][item]= w_1*(sum(Ei_Rix[:, item].tolist()) / len(Ei_Rix[:, item].tolist()))+w_2*VD_mat_implicit[group_id][item] #avg_satisfaction\n",
        "      elif social_descriptor_groupwise[group_id]==2:\n",
        "          overall_group_item_output_mat_VD_implicit[group_id][item]= w_1*max(Ei_Rix[:, item].tolist())+w_2*VD_mat_implicit[group_id][item] #max_satisfaction\n",
        "\n",
        "\n",
        "#print(overall_group_item_output_mat_VD_implicit)"
      ],
      "metadata": {
        "id": "iAtwWA-o_iAc"
      },
      "execution_count": 18,
      "outputs": []
    },
    {
      "cell_type": "markdown",
      "source": [
        "# **Rank top k**"
      ],
      "metadata": {
        "id": "ooWbulNeQjfT"
      }
    },
    {
      "cell_type": "code",
      "source": [
        "def rank_top_k(group_item_mat, k):\n",
        "    ranked_top_k=[]\n",
        "    for group_data in group_item_mat:\n",
        "        sorted_top_k_groupwise=sorted(range(len(group_data)), key=lambda i: group_data[i], reverse=True)[:k]\n",
        "        ranked_top_k.append(sorted_top_k_groupwise)\n",
        "\n",
        "    return ranked_top_k"
      ],
      "metadata": {
        "id": "wBJ-Ir6SAEP2"
      },
      "execution_count": 19,
      "outputs": []
    },
    {
      "cell_type": "markdown",
      "source": [
        "**Using Social Relationship from point A**"
      ],
      "metadata": {
        "id": "coOhfWCFGZC5"
      }
    },
    {
      "cell_type": "code",
      "source": [
        "social_relation_output_APD_explicit=rank_top_k(overall_group_item_output_mat_APD, 100)\n",
        "social_relation_output_VD_explicit=rank_top_k(overall_group_item_output_mat_VD, 100)\n",
        "social_relation_output_APD_implicit=rank_top_k(overall_group_item_output_mat_APD_implicit, 100)\n",
        "social_relation_output_VD_implicit=rank_top_k(overall_group_item_output_mat_VD_implicit, 100)"
      ],
      "metadata": {
        "id": "pHUzZc_OBS0I"
      },
      "execution_count": 20,
      "outputs": []
    },
    {
      "cell_type": "markdown",
      "source": [
        "# **Permuted Pipeline creation**"
      ],
      "metadata": {
        "id": "OrYXaHcRC1hG"
      }
    },
    {
      "cell_type": "markdown",
      "source": [
        "**DISCUSS: How do we create?**\n",
        "1. Do we generate top 1000 from each algo and take intersection and then output top 50?\n",
        "2. Do we create top 1000 from first algorithm, reduce no of columns of entire dataset, perform second algorithm to output 900 items, then reduce trainset to those common items and so on.. in the end take top 50?"
      ],
      "metadata": {
        "id": "7YhxIihNr9XG"
      }
    },
    {
      "cell_type": "markdown",
      "source": [
        "# **Evaluation**"
      ],
      "metadata": {
        "id": "8LEi50QnC7-q"
      }
    },
    {
      "cell_type": "markdown",
      "source": [
        "**DISCUSS:**\n",
        "\n",
        "1. Should we use group train data as validation set and predict new recommendations for test data?\n",
        "2. Should we add some weight to training data and perform:\n",
        "  new recommendation= (W * group_train_data) + ((1-W)* generated recommendation from individual data)"
      ],
      "metadata": {
        "id": "YK2F2bYGCTBW"
      }
    },
    {
      "cell_type": "markdown",
      "source": [
        "**EXPLICIT RECOMMENDATION PERFORMANCE**"
      ],
      "metadata": {
        "id": "IAhn5eOH4clc"
      }
    },
    {
      "cell_type": "code",
      "source": [
        "y_pred_APD = sorted(social_relation_output_APD_explicit)\n",
        "y_pred_VD = sorted(social_relation_output_VD_explicit)\n",
        "y_true = sorted(rank_top_k(dataset.group_trainMatrix, 100))\n"
      ],
      "metadata": {
        "id": "IEKcAk13EqHf"
      },
      "execution_count": 86,
      "outputs": []
    },
    {
      "cell_type": "markdown",
      "source": [
        "**A. NDCG**"
      ],
      "metadata": {
        "id": "na647NjWZG3M"
      }
    },
    {
      "cell_type": "code",
      "source": [
        "\n",
        "from sklearn.metrics import dcg_score, ndcg_score\n",
        "def ndcg_func(y_true, y_pred):\n",
        "  ndcg = []\n",
        "  for i in range(len(y_true)):\n",
        "      true_row = y_true[i]\n",
        "      pred_row = y_pred[i]\n",
        "      dcg = dcg_score([true_row], [pred_row])\n",
        "      ndcg_row = ndcg_score([true_row], [pred_row])\n",
        "      ndcg.append(ndcg_row)\n",
        "  return ndcg\n",
        "  #print(ndcg)"
      ],
      "metadata": {
        "id": "IUdvQ9ChHus_"
      },
      "execution_count": 82,
      "outputs": []
    },
    {
      "cell_type": "code",
      "source": [
        "ndcg_explicit_APD=ndcg_func(y_true, y_pred_APD)\n",
        "print('ndcg_explicit_APD:')\n",
        "print(ndcg_explicit_APD)\n",
        "mean_ndcg_explicit_APD = sum(ndcg_explicit_APD) / len(ndcg_explicit_APD)\n",
        "print(\"Mean of ndcg_explicit_APD={}\".format(mean_ndcg_explicit_APD))\n",
        "\n",
        "print()\n",
        "ndcg_explicit_VD=ndcg_func(y_true, y_pred_VD)\n",
        "print('ndcg_explicit_VD:')\n",
        "print(ndcg_explicit_VD)\n",
        "mean_ndcg_explicit_VD = sum(ndcg_explicit_VD) / len(ndcg_explicit_VD)\n",
        "print(\"Mean of ndcg_explicit_VD={}\".format(mean_ndcg_explicit_VD))"
      ],
      "metadata": {
        "colab": {
          "base_uri": "https://localhost:8080/"
        },
        "id": "N7CHEWZ0VB4_",
        "outputId": "987bb6f8-bfd2-4dda-c2f9-9d81abbdbdd0"
      },
      "execution_count": 90,
      "outputs": [
        {
          "output_type": "stream",
          "name": "stdout",
          "text": [
            "ndcg_explicit_APD:\n",
            "[0.837177028776798, 0.8908698245022979, 0.82126999739608, 0.8629791405765146, 0.8110939922048748, 0.7902830108369585, 0.8729570077419148, 0.8328617207992751, 0.8447283350470435, 0.8848229786238953, 0.7871590287455528, 0.7965993726836774, 0.9239083202023625, 0.8334699818158767, 0.8011873165561463, 0.7909734770374215, 0.8327848911821868, 0.818669748676565, 0.8233498544203326, 0.8167274370209612, 0.8267788610795656, 0.8244569493519595, 0.8292599215011016, 0.8395418442118329, 0.7980941159180883, 0.7521496314424722, 0.8768355679309209, 0.7732104617510493, 0.842474266315326, 0.8081546804607764, 0.8056462944665863, 0.7881888977514475, 0.8091627316463239, 0.8282611252493263, 0.8207362794673909, 0.7993135477227754, 0.8936273542369209, 0.7944915268245588, 0.7860043809110845, 0.8869273199439927, 0.7653040161002972, 0.9003517448812701, 0.8292184610264067, 0.8640487388164141, 0.8449643768486074, 0.7616330453318222, 0.8143333906634285, 0.8309160029444133, 0.8574758527116186, 0.9369410565948028, 0.8387167514406336, 0.7915925008733407, 0.8302248573032815, 0.8336128712288613, 0.7501975406262337, 0.8665802061989922, 0.877107169467515, 0.8434640696458402, 0.8247041527885851, 0.8479078257043531, 0.8048677452314823, 0.8454445413343845, 0.875842635987951, 0.8658785113866894, 0.8831170921339169, 0.8819593719789074, 0.8191735084288951, 0.8480747993918455, 0.8604747969732014, 0.8273813189713137, 0.8513882600370468, 0.8821325860105845, 0.8342696128813738, 0.8645836453729914, 0.8252478698167037, 0.7979398059472246, 0.8464477179954816, 0.837824795415045, 0.8045309708278903, 0.8299175384845142, 0.8475969834985618, 0.8523394050183577, 0.8720278775684913, 0.8000119267230531, 0.7623946475142345, 0.8724268512573088, 0.8692306231946235, 0.8276330585057905, 0.8250746233878938, 0.8540663374545562, 0.8313889842813241, 0.8521685365299807, 0.8478320280246108, 0.8112578104950706, 0.8572053354357441, 0.8311357016759915, 0.8204577331874912, 0.8531414118512769, 0.8075964296705553, 0.8370958594842182, 0.8244924859394906, 0.8086305338120376, 0.9032719965404021, 0.8887269038147099, 0.8089735409873839, 0.8682008320523055, 0.8478287608443182, 0.87643967168536, 0.8411466465770671, 0.7794202920885647, 0.8142418791899502, 0.839293647633234, 0.8921203839352284, 0.8479412617541835, 0.8575506562955064, 0.8175624458665567, 0.7896156321856102, 0.8113362638417332, 0.8405345640227219, 0.8395858335655847, 0.7819719828237074, 0.8553501998062414, 0.871702612279519, 0.8552456951907923, 0.803930994425203, 0.7809248375695109, 0.8564543071362393, 0.8651507128722182, 0.8094674994057744, 0.7781479807829488, 0.8473314052417337, 0.8185013821620452, 0.8312211890037696, 0.820632606827647, 0.8469481122089403, 0.8120608163001178, 0.863558202758116, 0.9150297149706994, 0.9356942151427718, 0.8088966843516865, 0.7923752711440643, 0.8068711414347931, 0.8972853064898438, 0.8442336715598863, 0.8679159013890676, 0.8405235625090289, 0.8248291112437266, 0.8009531182009796, 0.8013169990139515, 0.8442793444763534, 0.7912126813026146, 0.7686592130067977, 0.7943315622357203, 0.8255570714694769, 0.8265832959759292, 0.7930483170956977, 0.8822261604520868, 0.8403929419630662, 0.8433312855643588, 0.8727073691642468, 0.856258966581717, 0.8539991517644914, 0.8094151648859642, 0.8179333826634466, 0.8716945764419185, 0.7620393182776881, 0.8271642835075107, 0.8313229031355857, 0.8499825715573883, 0.8303143708390655, 0.78019068837437, 0.8373619390832159, 0.804880331162754, 0.8583839709154004, 0.8562702547378734, 0.8847430604284253, 0.8386178024798474, 0.8514697263942835, 0.8590813551613142, 0.7741757033344311, 0.7627521032574734, 0.8672489066791303, 0.7706868558465476, 0.8171043204736237, 0.8997560429494048, 0.8657286672610269, 0.863454712766508, 0.8322737306280757, 0.8556236925010973, 0.868254347958059, 0.8277130634668054, 0.8608691524824973, 0.8571291877715395, 0.9078023960551621, 0.8497195010993766, 0.826116884483624, 0.834403377612015, 0.8563052716365611, 0.8064826461040365, 0.8327811445060488, 0.8766830438012129, 0.7498254735173521, 0.8870355472440348, 0.8469301357636231, 0.8342127597587112, 0.7900013979552617, 0.8312605466221433, 0.8316262932873425, 0.8277230936730413, 0.7888256462026927, 0.8120320506577157, 0.8747466795738907, 0.8363297912133166, 0.833790621156153, 0.8010039949413609, 0.8397701568307654, 0.760259982258212, 0.8583971084598145, 0.8373522665882337, 0.8355676871876059, 0.8956948606580704, 0.8330433739842988, 0.8095843060914139, 0.8181159987903331, 0.82524414908725, 0.8384371151184925, 0.7523846615634866, 0.8688525076355432, 0.8694704110969275, 0.8381278465468205, 0.8468944487398112, 0.7995672505522556, 0.8068773309729006, 0.7857865820224387, 0.805012350793436, 0.7935412565725869, 0.8276173389544168, 0.8901454375847361, 0.8581135334138632, 0.8924700190636604, 0.8717905612694987, 0.8054561337159158, 0.8441521589541032, 0.8495091705071317, 0.7831312894084768, 0.771303669828842, 0.7398708666903567, 0.8726660995177913, 0.9010986042305191, 0.8987168889220816, 0.8508949947206251, 0.85391317506048, 0.897986911253985, 0.8073422241485756, 0.8835031264070934, 0.787376040632752, 0.8353347928050828, 0.8306201288321491, 0.8669657027114333, 0.8471586168354356, 0.7994260796630429, 0.8139229752341607, 0.8567982821534266, 0.8506245300829921, 0.8326216402058203, 0.8377911798285067, 0.8979003197568286, 0.8239802372919487, 0.7966906929751065, 0.8761810575407791, 0.8728143470144337, 0.8048417692162416, 0.8804858723769391, 0.889854044924218, 0.7809044058422852, 0.8759633871654116, 0.8678231532902894, 0.8146568473826942, 0.8439490999502244, 0.8207507976376318, 0.8149106313996755, 0.8160754291617031, 0.8762664993110592, 0.8044418192464116, 0.833822943121219, 0.8278332509854542, 0.8935618696690844, 0.9093656030353823, 0.8677477725515964, 0.8618868974571464]\n",
            "Mean of ndcg_explicit_APD=0.8357495725113846\n",
            "\n",
            "ndcg_explicit_VD:\n",
            "[0.9398366927011442, 0.8330909507927938, 0.92656656463073, 0.7862873381735055, 0.8188979307323007, 0.8327791747270511, 0.9037791427686308, 0.8822585208170108, 0.8517636123970147, 0.882790823449492, 0.9173038309568803, 0.8471749510933814, 0.8406075327864801, 0.8227639763094455, 0.7811830839049047, 0.9010137657637142, 0.8631066604161733, 0.8650052244385191, 0.8520448951838638, 0.8394896729778593, 0.8557883815530964, 0.8068631695469141, 0.8406169305518415, 0.8593663564954823, 0.8880944986288564, 0.8887076525456049, 0.8698428925465324, 0.8803754674535275, 0.8918502454648516, 0.8954814088587726, 0.8022719805651896, 0.8646458062036531, 0.8858999223927507, 0.8881174852902528, 0.8569955061329126, 0.8619308498144744, 0.8838299844962113, 0.7460421310847166, 0.8078896684633342, 0.8222957260354541, 0.7814360434421286, 0.8234127258951296, 0.7787048169269294, 0.8443829529077236, 0.9498966821370968, 0.73810678495361, 0.8598513184950419, 0.8847065378271671, 0.8953743499247282, 0.8585315193788866, 0.8201908460779107, 0.8803148144653369, 0.8562147014818672, 0.7569482156379462, 0.745863145864838, 0.8478202488125952, 0.8535693478546353, 0.8523006366988457, 0.8675166299789887, 0.7997844532326839, 0.9074456803199197, 0.8759074281479786, 0.8295206458953908, 0.8249784389648956, 0.8661728396322755, 0.7947067757301861, 0.8591064190514666, 0.8231970508562418, 0.83190156853859, 0.9202501748415313, 0.8496889838686864, 0.7949235114900202, 0.8067562713684955, 0.9166175528254586, 0.8331462474151746, 0.884894036957652, 0.8217401059922513, 0.8027438214897041, 0.849459208253768, 0.8489065402451997, 0.9068904723271565, 0.8130175513643281, 0.8781521121526985, 0.8512537315769138, 0.8287900289489772, 0.8178935810136639, 0.8641362702954257, 0.8278348335038168, 0.7942290349905379, 0.8163303151662812, 0.8367695755806974, 0.8869640794396125, 0.7971315960069841, 0.8302941604639207, 0.8792100772029111, 0.843323618051087, 0.8341987802713264, 0.9135205794440111, 0.8064142025527891, 0.8440263774772618, 0.8317470034597295, 0.8774352177890867, 0.8922528017192389, 0.8941399653707532, 0.7991442812510837, 0.817486829234564, 0.8858459902909233, 0.8820457369028268, 0.7762393057053568, 0.7624692667037722, 0.8373364584410032, 0.8659335806970749, 0.8665946871324788, 0.8772848442624749, 0.8429876868784806, 0.8644460513510395, 0.8154265594044529, 0.8278289310727536, 0.8820938416492657, 0.8535948089762052, 0.8279772357546824, 0.8819061032914611, 0.8529648140712098, 0.8195478514327589, 0.8624911151127996, 0.7590682133992469, 0.8057791640050931, 0.8535344733755927, 0.8974829693068026, 0.7740289468371852, 0.8049496933267344, 0.7698780185449469, 0.820792821853257, 0.8396770785102624, 0.8320154430253188, 0.8141939977546763, 0.8794489660422122, 0.8795098225667545, 0.8011700541896575, 0.8300369098845507, 0.7845033028971311, 0.8695660304581162, 0.8509414357234839, 0.813418070388959, 0.778184511887216, 0.8598771932830273, 0.8071698521216006, 0.8233543119640195, 0.8457770166759649, 0.8014320505807537, 0.7657276606740663, 0.8636780689314411, 0.8341143043226329, 0.8438719669683317, 0.91283142435384, 0.7676204470019822, 0.8435850124539465, 0.7725324486023746, 0.8731817092251825, 0.7740820038125892, 0.8317046589217664, 0.7799899318231475, 0.8625684986770639, 0.7821317268852837, 0.8853791593716253, 0.8438498426509433, 0.8600325875910652, 0.8694383943134295, 0.8921105495167351, 0.9065359859306932, 0.8204803614859044, 0.8470981412359012, 0.9339517685291733, 0.8007366761610645, 0.8481320791460025, 0.8072204055808863, 0.8286025001102885, 0.7968434076380527, 0.8238132935162469, 0.8507177991824802, 0.8383787631663778, 0.8003099707940947, 0.8444018286629978, 0.7966681820132409, 0.8686510023846531, 0.7852677719441837, 0.8641911327998957, 0.806661453150671, 0.8798671715629912, 0.8291775682512714, 0.7573702275853427, 0.8959253414907905, 0.8561343532273087, 0.8606041670843685, 0.876116090724715, 0.8574958318383473, 0.834514353060651, 0.8443767387792236, 0.8896111594624312, 0.9010441578372547, 0.8639451812417022, 0.7918192641642451, 0.8963096209678767, 0.8868476433773091, 0.8348519263461184, 0.8923536989672147, 0.8697268925459638, 0.8290669976362054, 0.8393163219061869, 0.8045909722687027, 0.9082942768194255, 0.8846770863908352, 0.8033319755440452, 0.7951379589023464, 0.805073678896264, 0.8936380838859885, 0.867345278372679, 0.8436956575823827, 0.8720407501291566, 0.8176548439344984, 0.8620094800574484, 0.8589164961796956, 0.8802839016233436, 0.837368604803519, 0.8628570920472166, 0.8299147637661035, 0.7382311680015403, 0.9077186300017244, 0.8515271161345135, 0.7846285888254011, 0.9041642380448159, 0.8479919052018665, 0.8124799289602054, 0.8532029736254455, 0.7797973460240821, 0.7580559672362561, 0.8340664982235262, 0.8317309357530249, 0.8162502297328931, 0.828150104827769, 0.8794227514939281, 0.7852549677538212, 0.8443788566882587, 0.9087721449502926, 0.7844406245448273, 0.764893706508515, 0.7595518239524733, 0.8978135771518394, 0.8294486339779824, 0.8317991324982785, 0.870345483892705, 0.826215306870015, 0.7923273905395263, 0.8309054657784616, 0.7891980853099244, 0.7177343869704966, 0.8583816867367813, 0.8591975485219577, 0.8585289598377066, 0.800879615423781, 0.8869180495444421, 0.8065430093704398, 0.8251591528355685, 0.8574388521394842, 0.8854056526949367, 0.7954649186081428, 0.8299332268431687, 0.8259061092144262, 0.7716466593520162, 0.8146634186085544, 0.8676287826559674, 0.8555474750356915, 0.8823972728667933, 0.7779014442821887, 0.8328110103597147, 0.8220438996910511, 0.8448003444141323, 0.8759937961471111, 0.8070998597516778, 0.8174808534598401, 0.8192354726575442, 0.8261568558455807, 0.8322413895222307, 0.8472129224916687, 0.8530584275408578, 0.8216227044168093, 0.8466326004693336, 0.8226999580433871, 0.8962727467803288, 0.8581625957906978]\n",
            "Mean of ndcg_explicit_VD=0.8409275743021813\n"
          ]
        }
      ]
    },
    {
      "cell_type": "markdown",
      "source": [
        "**B. RMSE**"
      ],
      "metadata": {
        "id": "v9Az7evdZLd9"
      }
    },
    {
      "cell_type": "code",
      "source": [
        "# Calculate RMSE row-wise\n",
        "def rmse_2d(arr1, arr2):\n",
        "    \"\"\"\n",
        "    Calculate the root mean squared error (RMSE) row-wise between two 2D arrays.\n",
        "    \"\"\"\n",
        "    # Calculate the mean squared error (MSE) row-wise\n",
        "    mse=0\n",
        "    for i in range(len(arr1)):\n",
        "      mse+=(np.array(arr1[i]) - np.array(arr2[i]))**2\n",
        "    mse = mse/len(arr1)\n",
        "    # Calculate the RMSE row-wise\n",
        "    rmse = np.sqrt(mse)\n",
        "    return rmse\n",
        "\n",
        "def rmse_func(y_true, y_pred_top_k_indices, y_pred_total):\n",
        "  k=len(y_pred_top_k_indices[0])\n",
        "  rmse_total=[]\n",
        "  for group_id in range(len(y_pred_top_k_indices)):\n",
        "      y_true_list=[]\n",
        "      y_pred_list=[]\n",
        "      for item_id in y_pred_top_k_indices[group_id]:\n",
        "          y_true_list.append(y_true[group_id][item_id])\n",
        "          y_pred_list.append(y_pred_total[group_id][item_id])\n",
        "      rmse_row=rmse_2d(y_true_list, y_pred_list)\n",
        "      rmse_total.append(rmse_row)\n",
        "  return rmse_total\n",
        "  #print(rmse_total)"
      ],
      "metadata": {
        "id": "WI-OkfDuGLbj"
      },
      "execution_count": 93,
      "outputs": []
    },
    {
      "cell_type": "code",
      "source": [
        "rmse_explicit_APD=rmse_func(dataset.group_trainMatrix, social_relation_output_APD_explicit, overall_group_item_output_mat_APD)\n",
        "print('rmse_explicit_APD:')\n",
        "print(rmse_explicit_APD)\n",
        "mean_rmse_explicit_APD = sum(rmse_explicit_APD) / len(rmse_explicit_APD)\n",
        "print(\"Mean of rmse_explicit_APD={}\".format(mean_rmse_explicit_APD))\n",
        "\n",
        "print()\n",
        "rmse_explicit_VD=rmse_func(dataset.group_trainMatrix, social_relation_output_VD_explicit, overall_group_item_output_mat_VD)\n",
        "print('rmse_explicit_VD:')\n",
        "print(rmse_explicit_VD)\n",
        "mean_rmse_explicit_VD = sum(rmse_explicit_VD) / len(rmse_explicit_VD)\n",
        "print(\"Mean of rmse_explicit_VD={}\".format(mean_rmse_explicit_VD))"
      ],
      "metadata": {
        "colab": {
          "base_uri": "https://localhost:8080/"
        },
        "id": "pv6_KT2qgI4i",
        "outputId": "5c7a134a-12bb-4c02-8e5f-b298c0857527"
      },
      "execution_count": 94,
      "outputs": [
        {
          "output_type": "stream",
          "name": "stdout",
          "text": [
            "rmse_explicit_APD:\n",
            "[34.62571298904905, 43.9597543214245, 37.75248336202534, 40.02549187705255, 29.22892403082946, 53.843383994693355, 59.99208281098432, 31.037396798056374, 40.35740328613822, 49.3495694003504, 57.683359818928714, 51.07230169083825, 37.70490684247874, 37.997309846297746, 59.485460408405686, 36.326161371661605, 68.27261530071921, 40.09675797368161, 41.759430072739256, 51.85624359708289, 36.264721148796944, 38.37798848298331, 55.17952518824351, 67.12473463634697, 50.976268988618614, 34.38560745428238, 49.304743968281365, 66.04415189855949, 32.65593361090753, 34.66453519088349, 40.91747792814215, 64.1577829348171, 49.642119213426014, 55.658781876717356, 40.8306257605734, 43.48792935976603, 41.81267750336015, 41.401570018539154, 42.562307268286105, 45.93353894487121, 37.62552325217551, 41.227296782592965, 56.43536125515632, 27.665501983517306, 54.68811571081966, 39.18609447240181, 33.893952262903774, 65.82112123019479, 57.298865608317236, 45.59232391532592, 45.138232131974334, 29.34672043005828, 41.55863327877855, 44.00704489056269, 41.35408081435253, 48.87484015319129, 53.63375802607906, 43.53102342008513, 39.532518260287944, 37.027152199433324, 42.4020046695908, 50.106885754355154, 45.245331250859465, 31.070886694782303, 42.37039060476077, 60.17673969234292, 37.84045454272451, 35.05452895133523, 44.50483119842159, 42.26466872249471, 56.744779495562405, 40.74162490623073, 54.0521044918697, 40.63409898102824, 39.84281616552725, 41.55538472929832, 48.55543223986375, 36.993648103424455, 50.481382706895026, 57.41855100923394, 36.825806169044014, 40.17897460115178, 39.05380903317882, 36.8021738488367, 49.423779701678015, 40.25717327384028, 49.933555851751635, 46.011737632912755, 64.18411018312867, 26.60469883310089, 34.8720518467153, 37.32519256480802, 41.03096391750991, 31.8190194694934, 39.486833248565276, 35.030129888426046, 33.38382842035946, 40.139008458107185, 36.27712778046244, 45.33894573101585, 39.4840474115813, 36.2133953116799, 41.03803114185669, 56.687211961782, 45.17632123137076, 41.23420909875682, 41.04448805869066, 34.99742847696099, 36.03803546254984, 60.09816968926758, 42.012022088921164, 36.100831015365834, 45.962919837625634, 38.85614494516923, 36.39189470198, 37.88324167755447, 44.38603383948604, 35.661183379130875, 37.041058300215994, 33.488953402577394, 41.75523919222593, 46.01662742965851, 35.10925803830095, 44.3240341124316, 41.11532560980151, 45.37267900399975, 49.66618567999761, 39.72455160225223, 59.22288409052703, 62.57787148825054, 41.73080397020887, 38.30574369464715, 41.38731689781303, 56.85367182513369, 43.873568352710954, 39.31907933815338, 40.37635446644484, 42.881464527229014, 41.69448404765311, 52.454170472899484, 47.25960219891826, 34.534620310639006, 42.11270592113501, 37.45944473694185, 42.70245894559235, 41.07190172260242, 39.7460689880144, 40.55218859691792, 45.305187340965716, 55.59055675202399, 58.81139345398985, 51.831747028245154, 41.86131866054866, 41.59170590394195, 33.05298776207682, 38.03905887374187, 42.470931235375566, 37.41015904804469, 35.09275012180024, 40.576347790307594, 37.42178509905694, 34.76463720506803, 40.40903364348126, 58.70391809751714, 37.43233895978182, 33.196686581645466, 50.30328021113534, 40.12256223124341, 64.44579117366781, 49.899498995480904, 38.731382624430026, 60.63884893366628, 37.91028884089384, 42.01047488424762, 43.29076113906984, 40.57339029462537, 44.06120742784973, 53.15054091916657, 43.24696521144576, 32.728428009912115, 39.409897234070534, 35.281156443631495, 71.53285958215287, 36.253413632373984, 39.275055696968785, 55.26101700113743, 49.48019805942575, 34.65400409765083, 35.42005081871002, 56.84406545786268, 48.87166868442288, 39.415859752135304, 22.504221826137425, 49.098065134992844, 73.7081406630231, 44.6128905138414, 42.999237719341544, 40.279171623391996, 43.49942528355978, 40.684517939874866, 41.36629062413017, 31.46405356381575, 20.296797776989354, 31.53505985407353, 40.262141026030896, 47.682701265763036, 71.00091548705552, 67.27859986652517, 30.826287483250397, 68.13075663751285, 73.63613243510281, 74.77285603746857, 51.82181008031271, 50.13531689338366, 22.17047586318345, 75.69828267536853, 21.475334688893675, 43.07957752810489, 30.66545287452967, 59.71792025849527, 64.39262380117772, 44.04997162314637, 44.36947148659763, 24.29958847388161, 29.79060254509801, 67.00888000854812, 44.52808102759426, 30.1756524370228, 59.9260377465422, 23.265424990745387, 35.95205140183241, 34.531543550788456, 72.31860065017851, 27.552132403863045, 40.555640791386836, 33.373192834968606, 32.91883959072677, 35.2080956599473, 47.64241807465276, 34.138980652620546, 43.91320985762712, 35.44545104805411, 27.800719415151832, 67.39124572227465, 42.84576991956149, 42.98871945057215, 40.722843712098495, 35.120791562833546, 46.78439910910474, 30.085212314358028, 54.40119483981946, 27.27141360472537, 49.40759050996112, 51.17509159737772, 47.36876608061477, 30.433698427894036, 52.94053267582411, 61.91098448579218, 39.5484512971115, 68.46911712589845, 34.039829611794474, 59.44863328958875, 42.10237522990835, 47.40485207233538, 42.450323909247146, 46.977204874042656, 65.21663898116799, 43.343742339581155, 82.17779505438193, 69.33995961925562, 43.48919406013406, 59.59303650595428, 31.30006212276405, 40.50962848508981, 67.41596414961535, 44.41261082170243, 41.817580035195725, 35.42216820015398, 22.81722059225348, 38.019731719200756, 53.74989405674314, 40.182832155038554, 43.646191128207285, 36.23561783659829, 37.188170162028676, 35.16518164321066, 34.08416054415893, 59.634649230869876, 33.76047985440965, 41.55357986984996]\n",
            "Mean of rmse_explicit_APD=44.20544589002746\n",
            "\n",
            "rmse_explicit_VD:\n",
            "[253.5902206316324, 361.02927945666676, 372.5950189213484, 365.4494561495474, 336.2323880145992, 376.70026380399577, 521.841815711428, 290.08412034270333, 359.8439965804626, 350.75869108975763, 479.7057235952058, 450.0857140590001, 393.1473197161593, 410.19840818081474, 368.513196846463, 403.43311326042635, 491.6142402839853, 380.9419247076908, 351.46323865377445, 377.2175499628828, 378.7226731065887, 324.042510714258, 411.80763257861065, 477.6023862743987, 355.43456588379246, 442.1404824826607, 387.0009584637378, 464.5593516979289, 320.33639545015797, 337.422815248169, 481.17623785365794, 432.47913715470037, 376.50580672813004, 403.657982548345, 374.65007590416957, 410.9587410860122, 455.389327251968, 315.2538431565902, 392.15835051035185, 384.0844438401534, 322.623229363603, 400.42617921409686, 422.8038389726375, 404.33009797070514, 407.8425531072009, 364.99734588076115, 431.697820384815, 493.2192197694652, 479.2797708541432, 428.63853215734116, 361.96282612997703, 252.8368112538204, 426.89036941584897, 378.07126312376613, 434.90225697850775, 353.391728468565, 395.2713640652457, 326.4852360750789, 398.0276340909008, 161.7475849896993, 291.2297750488435, 315.43002789842313, 385.2243031663501, 301.14147422764603, 217.2240577146095, 448.45976129414333, 339.36390405433514, 358.14208074450005, 259.86762255040543, 358.2455765064235, 411.4098769779355, 372.8779039444413, 375.9926985660759, 432.76094368022626, 306.2173196848931, 328.2731332290232, 299.46958213648344, 388.30219385164435, 381.8699525034668, 472.5389970679669, 366.4309979382203, 379.2069018029604, 372.89205458818776, 328.0637199920162, 406.13756367147323, 335.3414593738746, 384.19438276736946, 298.7304386901342, 478.7577336189986, 350.4469913553261, 404.7649974059022, 410.4502527712707, 299.2388333338439, 393.6953533507857, 348.653215961075, 296.3516007211704, 334.1725321596615, 326.0834642005019, 270.0098400984675, 359.53231947906994, 352.63383009149874, 407.67970424096416, 332.2279196951996, 356.0872163178566, 441.7080858723326, 305.54914702875544, 276.2416288324408, 330.1056904614036, 359.7998349777276, 422.383178375986, 362.8201603411806, 427.92873238426046, 439.51046204840225, 377.57584668513954, 290.9605052666083, 406.6573995699574, 283.21195574163175, 397.47009478701665, 432.6983800813218, 353.1657684430925, 416.286090027039, 448.3694591238346, 289.92587845861567, 331.75989058353633, 304.6934678902716, 409.70622707008005, 407.11273008836264, 378.3855713752838, 445.9686627163393, 429.21913764998874, 365.9194429789158, 355.34628797132524, 455.3580898589592, 389.6153343363169, 385.78544555231736, 340.5735511603918, 360.6893781358137, 352.6008960212665, 331.4633511038588, 446.45207609552, 295.38973196439986, 502.65077402208385, 377.4404779233409, 311.1268832807606, 250.28406611288702, 356.65831160168966, 327.93167828832884, 372.67766316885695, 476.1393690402003, 389.92262774170985, 465.6954416515154, 400.1642295670616, 341.10958741290165, 426.77148671742356, 416.22772087524396, 348.0649077399214, 366.3940416409634, 374.33776442539164, 364.53596479583405, 360.61232213417225, 369.8106145380362, 226.87814047413207, 289.0286458553892, 357.5381719131539, 358.29997906781966, 402.48554632433695, 325.24380086329086, 237.25688346178706, 482.4963950642533, 398.85987906155714, 336.051172628515, 473.02430236194, 429.3697234028035, 443.1592835820999, 303.00665215470104, 407.47946343957017, 310.90568304551783, 439.45279538876525, 291.7604968120256, 329.62656427387645, 387.19360870887317, 398.515075781331, 535.7342070700731, 262.30150233081014, 316.1451160068743, 384.0653085739455, 486.02713915994445, 425.5837167937702, 333.48601826013635, 394.24727983122597, 386.65409201895176, 378.2574561393338, 365.9393306956769, 432.1340923255188, 441.92041350790754, 419.8321688484578, 356.96482466677674, 354.3468064732805, 369.4707811519065, 375.6920381110039, 423.9296285941807, 341.112336769423, 285.3342885984788, 325.1712289317737, 366.9070377834146, 455.1162543790322, 443.362788808443, 424.7170234403137, 432.47136827193543, 378.50759156851797, 425.9769191223863, 429.17127918233297, 411.57863161247815, 386.6920245516473, 241.9907023007289, 490.1781831640409, 331.1398873588019, 341.22975214655594, 300.098942017462, 476.3662135112019, 345.89570682504865, 354.41093644948376, 419.8551163794482, 241.00914142413768, 380.85403864210235, 395.51597312877266, 376.10859718304766, 283.8886775656965, 389.3478345258902, 480.45811471969125, 320.4391283847839, 290.9940172682894, 506.7315407343419, 368.0602235028936, 294.88867073015876, 434.5456499322022, 446.02907556570796, 458.02906567160124, 419.39867965934275, 317.34698576636896, 459.6035200311242, 336.24524903706816, 286.73051917261967, 402.5864177415825, 387.54380155667565, 377.1056300958658, 370.458841337334, 273.8404530926722, 395.6154880373113, 425.68108661297134, 397.4707693654969, 432.70880075404057, 403.49411008712383, 385.6484652504143, 405.103297012009, 291.9081394462991, 381.666913027577, 407.2953880477902, 314.3181817442319, 492.567233355001, 241.90085262354904, 371.6442183056263, 418.58318393719543, 412.5996856821391, 390.37164503841717, 312.5304034592789, 498.07320119637035, 400.0897946086603, 569.2799580391005, 426.4649875722508, 372.30570016452873, 428.74841326237, 329.8343572798133, 354.21630838373324, 442.01200112191805, 339.0993585956777, 316.62691077196837, 366.74926976750754, 324.53030637073977, 309.71566799243465, 344.9026144533992, 436.7533535933067, 279.78038262179854, 365.77528962465465, 298.73864308957417, 372.8501667895564, 331.63782674025595, 393.09844172015295, 312.93916541398266, 426.58193160868876]\n",
            "Mean of rmse_explicit_VD=376.0185628579933\n"
          ]
        }
      ]
    },
    {
      "cell_type": "markdown",
      "source": [
        "**IMPLICIT RECOMMENDATION PERFORMANCE**"
      ],
      "metadata": {
        "id": "jq9XAn_64mEr"
      }
    },
    {
      "cell_type": "code",
      "source": [
        "y_pred_implicit_APD=social_relation_output_APD_implicit"
      ],
      "metadata": {
        "id": "_cX3Rb8u4tEA"
      },
      "execution_count": 29,
      "outputs": []
    },
    {
      "cell_type": "code",
      "source": [
        "#k=100\n",
        "Recall_at_k=np.zeros(num_groups)\n",
        "Precision_at_k=np.zeros(num_groups)\n",
        "for group_id in range(len(y_pred_implicit_APD)):\n",
        "    TP=0\n",
        "    TP_FP=0\n",
        "    TP_FN=np.sum(dataset.implicit_group_trainMatrix[group_id], axis=0)\n",
        "\n",
        "    for item_id in social_relation_output_APD_implicit[group_id]:\n",
        "        if dataset.implicit_group_trainMatrix[group_id][item_id]==1:\n",
        "            TP+=1\n",
        "            TP_FP+=1\n",
        "        else:\n",
        "            TP_FP+=1\n",
        "    Precision_at_k[group_id]=(TP/TP_FP)\n",
        "    if TP_FN!=0:\n",
        "        Recall_at_k[group_id]=(TP/TP_FN)"
      ],
      "metadata": {
        "id": "xHeMNxO25H-M"
      },
      "execution_count": 31,
      "outputs": []
    },
    {
      "cell_type": "code",
      "source": [
        "print(Precision_at_k)\n",
        "print(Recall_at_k)"
      ],
      "metadata": {
        "colab": {
          "base_uri": "https://localhost:8080/"
        },
        "id": "QimFFOIU8O9z",
        "outputId": "bdce5067-47b7-4a67-8eef-761b70370111"
      },
      "execution_count": 32,
      "outputs": [
        {
          "output_type": "stream",
          "name": "stdout",
          "text": [
            "[0.14 0.52 0.42 0.53 0.17 0.44 0.5  0.21 0.59 0.51 0.55 0.64 0.64 0.53\n",
            " 0.35 0.58 0.46 0.18 0.64 0.58 0.59 0.74 0.49 0.49 0.5  0.62 0.67 0.41\n",
            " 0.16 0.66 0.55 0.54 0.48 0.43 0.74 0.72 0.49 0.49 0.46 0.76 0.42 0.45\n",
            " 0.22 0.13 0.52 0.18 0.73 0.4  0.45 0.7  0.67 0.09 0.4  0.42 0.74 0.52\n",
            " 0.5  0.64 0.55 0.17 0.58 0.35 0.46 0.13 0.28 0.35 0.21 0.24 0.34 0.77\n",
            " 0.49 0.46 0.28 0.63 0.24 0.38 0.64 0.37 0.42 0.46 0.6  0.47 0.27 0.46\n",
            " 0.6  0.42 0.47 0.42 0.45 0.16 0.12 0.63 0.61 0.17 0.64 0.13 0.12 0.24\n",
            " 0.31 0.34 0.54 0.66 0.15 0.31 0.38 0.19 0.23 0.71 0.64 0.47 0.32 0.2\n",
            " 0.73 0.75 0.5  0.69 0.32 0.37 0.68 0.72 0.7  0.22 0.67 0.5  0.16 0.3\n",
            " 0.26 0.31 0.38 0.32 0.7  0.22 0.44 0.44 0.72 0.21 0.55 0.39 0.19 0.62\n",
            " 0.3  0.69 0.55 0.15 0.44 0.19 0.46 0.14 0.29 0.35 0.42 0.5  0.28 0.47\n",
            " 0.16 0.61 0.3  0.84 0.81 0.52 0.24 0.23 0.5  0.33 0.7  0.69 0.43 0.23\n",
            " 0.35 0.44 0.34 0.25 0.09 0.55 0.34 0.15 0.32 0.49 0.31 0.18 0.52 0.21\n",
            " 0.18 0.12 0.16 0.43 0.31 0.18 0.67 0.41 0.65 0.18 0.06 0.05 0.04 0.32\n",
            " 0.64 0.14 0.07 0.07 0.9  0.87 0.02 0.14 0.37 0.12 0.18 0.19 0.08 0.09\n",
            " 0.02 0.03 0.47 0.02 0.11 0.16 0.04 0.26 0.12 0.08 0.12 0.17 0.12 0.03\n",
            " 0.89 0.24 0.12 0.09 0.3  0.08 0.61 0.51 0.38 0.35 0.38 0.07 0.77 0.09\n",
            " 0.28 0.16 0.14 0.7  0.13 0.15 0.49 0.29 0.7  0.34 0.24 0.82 0.41 0.07\n",
            " 0.16 0.52 0.09 0.58 0.45 0.35 0.66 0.23 0.16 0.31 0.38 0.66 0.55 0.45\n",
            " 0.26 0.11 0.12 0.14 0.69 0.58 0.65 0.63 0.23 0.74 0.31 0.69 0.06 0.82\n",
            " 0.61 0.51 0.43 0.25 0.76 0.06 0.78 0.48 0.64 0.59]\n",
            "[0.07216495 0.0379562  0.336      0.11041667 0.10897436 0.29333333\n",
            " 0.25252525 0.06104651 0.118      0.2107438  0.20522388 0.18934911\n",
            " 0.16666667 0.27319588 0.12915129 0.19141914 0.18623482 0.07258065\n",
            " 0.20846906 0.15977961 0.22605364 0.13678373 0.19291339 0.22685185\n",
            " 0.24752475 0.13419913 0.20241692 0.31782946 0.06694561 0.105939\n",
            " 0.16224189 0.17142857 0.16107383 0.1634981  0.16856492 0.05863192\n",
            " 0.22272727 0.21875    0.11675127 0.11930926 0.17142857 0.0596817\n",
            " 0.08208955 0.06435644 0.20634921 0.06020067 0.08102109 0.2173913\n",
            " 0.2027027  0.14830508 0.1205036  0.03249097 0.20408163 0.15789474\n",
            " 0.07377866 0.21052632 0.23474178 0.05007825 0.16923077 0.05059524\n",
            " 0.17846154 0.25735294 0.16911765 0.07027027 0.04582651 0.12589928\n",
            " 0.07692308 0.06837607 0.08673469 0.13253012 0.1870229  0.24731183\n",
            " 0.12612613 0.11033275 0.07453416 0.10298103 0.1122807  0.14230769\n",
            " 0.15849057 0.0952381  0.13071895 0.20614035 0.14438503 0.16606498\n",
            " 0.12371134 0.15555556 0.15719064 0.07023411 0.09846827 0.10526316\n",
            " 0.04109589 0.13665944 0.11984283 0.0960452  0.29223744 0.1015625\n",
            " 0.05504587 0.05251641 0.11313869 0.26153846 0.20849421 0.21782178\n",
            " 0.07042254 0.20945946 0.25       0.05882353 0.0790378  0.13221601\n",
            " 0.1024     0.20614035 0.05633803 0.08928571 0.18204489 0.40540541\n",
            " 0.06702413 0.12255773 0.04238411 0.13405797 0.15044248 0.16513761\n",
            " 0.13157895 0.06567164 0.13060429 0.06257822 0.04532578 0.18072289\n",
            " 0.08965517 0.05882353 0.15767635 0.09907121 0.14957265 0.06940063\n",
            " 0.19642857 0.15602837 0.09561753 0.08366534 0.24017467 0.16115702\n",
            " 0.08296943 0.1968254  0.06550218 0.07632743 0.18581081 0.06276151\n",
            " 0.20276498 0.06012658 0.23232323 0.07291667 0.16022099 0.10144928\n",
            " 0.16470588 0.25       0.07197943 0.19831224 0.06866953 0.21478873\n",
            " 0.10526316 0.09438202 0.14754098 0.18118467 0.06299213 0.14285714\n",
            " 0.14124294 0.15714286 0.0378993  0.10192024 0.16226415 0.0858209\n",
            " 0.11744966 0.16176471 0.04892086 0.1344086  0.04411765 0.24444444\n",
            " 0.05629139 0.05747126 0.06926407 0.09386973 0.06212425 0.0669145\n",
            " 0.25870647 0.08300395 0.10909091 0.06185567 0.05015674 0.172\n",
            " 0.19375    0.09326425 0.11942959 0.26973684 0.20504732 0.0625\n",
            " 0.04347826 0.04385965 0.04651163 0.17204301 0.22377622 0.16470588\n",
            " 0.01818182 0.07070707 0.13043478 0.08100559 0.01666667 0.12173913\n",
            " 0.26056338 0.06217617 0.16363636 0.07392996 0.02739726 0.1011236\n",
            " 0.01612903 0.00409836 0.12634409 0.01226994 0.04954955 0.07207207\n",
            " 0.01932367 0.2300885  0.12765957 0.08333333 0.07185629 0.0923913\n",
            " 0.10344828 0.02857143 0.0648688  0.06153846 0.10526316 0.03947368\n",
            " 0.078125   0.04371585 0.15061728 0.0923913  0.1563786  0.0405562\n",
            " 0.0568012  0.06363636 0.06742557 0.06382979 0.08433735 0.08333333\n",
            " 0.175      0.04539559 0.03258145 0.05576208 0.11835749 0.04625199\n",
            " 0.0729927  0.05933682 0.08480565 0.0496368  0.11202186 0.05511811\n",
            " 0.14814815 0.07172414 0.07317073 0.03452381 0.11873351 0.13157895\n",
            " 0.08029197 0.25555556 0.04678363 0.14485981 0.24050633 0.19701493\n",
            " 0.17027864 0.05461165 0.04467354 0.09243697 0.11881188 0.17948718\n",
            " 0.11367381 0.06277056 0.13485477 0.15254237 0.20909091 0.02160584\n",
            " 0.248      0.09007833 0.04411765 0.12872841 0.19365079 0.1\n",
            " 0.04869762 0.13297872 0.05877804 0.07142857 0.08914286 0.16842105\n",
            " 0.07565012 0.11614173]\n"
          ]
        }
      ]
    },
    {
      "cell_type": "markdown",
      "source": [
        "# **Analysis**"
      ],
      "metadata": {
        "id": "h_ADskKkC_OB"
      }
    },
    {
      "cell_type": "markdown",
      "source": [
        "**EXPLICIT RECOMMENDATION TECHNIQUES**"
      ],
      "metadata": {
        "id": "aEsG23aVOsy_"
      }
    },
    {
      "cell_type": "code",
      "source": [
        "#plot ndcg\n",
        "import matplotlib.pyplot as plt\n",
        "  \n",
        "\n",
        "# corresponding x axis values\n",
        "x = list(range(1, num_groups+1))\n",
        "\n",
        "#fig, axs = plt.subplots(1, 2, sharey=True, tight_layout=True)\n",
        "fig = plt.figure(figsize=(20, 10))\n",
        "ax = fig.add_subplot(1, 1, 1)\n",
        "ax.set_xlabel('Group Id')\n",
        "ax.set_ylabel('NDCG')\n",
        "#ax.plot(x, Precision_at_k, color='blue')\n",
        "ax.bar(x, ndcg_explicit_APD, color='blue')\n",
        "ax.bar(x, ndcg_explicit_VD, color='red')\n",
        "# function to show the plot\n",
        "plt.show()\n"
      ],
      "metadata": {
        "colab": {
          "base_uri": "https://localhost:8080/",
          "height": 850
        },
        "id": "X_0bwN3HOxan",
        "outputId": "3d15ff6e-1460-4f1a-80fb-f45b448a5cd1"
      },
      "execution_count": 88,
      "outputs": [
        {
          "output_type": "display_data",
          "data": {
            "text/plain": [
              "<Figure size 2000x1000 with 1 Axes>"
            ],
            "image/png": "[encoded data removed]"
          },
          "metadata": {}
        }
      ]
    },
    {
      "cell_type": "code",
      "source": [
        "#plot ndcg\n",
        "import matplotlib.pyplot as plt\n",
        "  \n",
        "\n",
        "# corresponding x axis values\n",
        "x = list(range(1, num_groups+1))\n",
        "\n",
        "#fig, axs = plt.subplots(1, 2, sharey=True, tight_layout=True)\n",
        "fig = plt.figure(figsize=(20, 10))\n",
        "ax = fig.add_subplot(1, 1, 1)\n",
        "ax.set_xlabel('Group Id')\n",
        "ax.set_ylabel('RMSE')\n",
        "#ax.plot(x, Precision_at_k, color='blue')\n",
        "ax.bar(x, rmse_total, color='blue')\n",
        "# function to show the plot\n",
        "plt.show()"
      ],
      "metadata": {
        "colab": {
          "base_uri": "https://localhost:8080/",
          "height": 850
        },
        "id": "D-yLQz0kPIur",
        "outputId": "d64b826d-def8-4591-fcde-7fd0e9ba076a"
      },
      "execution_count": 76,
      "outputs": [
        {
          "output_type": "display_data",
          "data": {
            "text/plain": [
              "<Figure size 2000x1000 with 1 Axes>"
            ],
            "image/png": "[encoded data removed]"
          },
          "metadata": {}
        }
      ]
    },
    {
      "cell_type": "markdown",
      "source": [
        "**IMPLICIT RECOMMENDATION ANALYSIS**\n"
      ],
      "metadata": {
        "id": "glWmX-A580LD"
      }
    },
    {
      "cell_type": "code",
      "source": [
        "import matplotlib.pyplot as plt\n",
        "  \n",
        "\n",
        "# corresponding x axis values\n",
        "x = list(range(1, num_groups+1))\n",
        "\n",
        "#fig, axs = plt.subplots(1, 2, sharey=True, tight_layout=True)\n",
        "fig = plt.figure(figsize=(20, 10))\n",
        "ax = fig.add_subplot(1, 1, 1)\n",
        "ax.set_xlabel('Group Id')\n",
        "ax.set_ylabel('Precision@100')\n",
        "#ax.plot(x, Precision_at_k, color='blue')\n",
        "ax.bar(x, Precision_at_k, color='blue')\n",
        "# function to show the plot\n",
        "plt.show()\n",
        "\n",
        "  \n"
      ],
      "metadata": {
        "colab": {
          "base_uri": "https://localhost:8080/",
          "height": 850
        },
        "id": "EFWGW8SC85wR",
        "outputId": "73274f41-eea5-4620-838d-60999a763d69"
      },
      "execution_count": 57,
      "outputs": [
        {
          "output_type": "display_data",
          "data": {
            "text/plain": [
              "<Figure size 2000x1000 with 1 Axes>"
            ],
            "image/png": "[encoded data removed]"
          },
          "metadata": {}
        }
      ]
    },
    {
      "cell_type": "code",
      "source": [
        "\n",
        "# corresponding x axis values\n",
        "x = list(range(1, num_groups+1))\n",
        "\n",
        "#fig, axs = plt.subplots(1, 2, sharey=True, tight_layout=True)\n",
        "fig = plt.figure(figsize=(20, 10))\n",
        "ax2 = fig.add_subplot(1, 1, 1)\n",
        "ax2.set_xlabel('Group Id')\n",
        "ax2.set_ylabel('Recall@100')\n",
        "ax2.bar(x, Recall_at_k, color='blue')\n",
        "plt.show()"
      ],
      "metadata": {
        "colab": {
          "base_uri": "https://localhost:8080/",
          "height": 850
        },
        "id": "k943_aM1Dkyg",
        "outputId": "d896f5d7-29cb-4e98-c780-0a78144ec8cd"
      },
      "execution_count": 58,
      "outputs": [
        {
          "output_type": "display_data",
          "data": {
            "text/plain": [
              "<Figure size 2000x1000 with 1 Axes>"
            ],
            "image/png": "[encoded data removed]"
          },
          "metadata": {}
        }
      ]
    },
    {
      "cell_type": "markdown",
      "source": [
        "## **COMPARISON**"
      ],
      "metadata": {
        "id": "ZLAOYYUbZU5l"
      }
    },
    {
      "cell_type": "markdown",
      "source": [
        "# *a. EXPLICIT RECOMMENDATION*"
      ],
      "metadata": {
        "id": "Or_S0lEdbjO1"
      }
    },
    {
      "cell_type": "markdown",
      "source": [
        "\\begin{array}{|c|c|c|c|c|} \\hline\n",
        "Social Relationship & Expertise Descriptor & Dissimilarity Descriptor & NDCG &RMSE \\\\ \\hline\n",
        "yes & yes & APD & 83.57\\% & 44.20\\\\ \\hline\n",
        "yes & yes & VD & 84.09\\% & 376.02\\\\ \\hline\n",
        "foo & bar & foo & bar & 1  \\\\ \\hline\n",
        "\\end{array}\n"
      ],
      "metadata": {
        "id": "01MdDk8UdiKu"
      }
    },
    {
      "cell_type": "markdown",
      "source": [
        "# *b. IMPLICIT RECOMMENDATION*"
      ],
      "metadata": {
        "id": "eIVscj6geNPf"
      }
    },
    {
      "cell_type": "markdown",
      "source": [
        "**Assumption:** \n",
        "\n",
        "1.   K=100\n",
        "\n",
        "\n",
        "\n",
        "\\begin{array}{|c|c|c|c|c|} \\hline\n",
        "Social Relationship & Expertise Descriptor & Dissimilarity Descriptor &Precision@K & Recall@K \\\\ \\hline\n",
        "yes & yes & APD & 1 & 1\\\\ \\hline\n",
        "yes & yes & VD & 1 & 1\\\\ \\hline\n",
        "foo & bar & foo & bar & 1  \\\\ \\hline\n",
        "\\end{array}\n"
      ],
      "metadata": {
        "id": "1nPwEpo5eT_W"
      }
    }
  ]
}